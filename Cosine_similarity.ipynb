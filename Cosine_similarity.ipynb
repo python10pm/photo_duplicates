{
 "cells": [
  {
   "cell_type": "code",
   "execution_count": 1,
   "metadata": {},
   "outputs": [],
   "source": [
    "import numpy as np\n",
    "import pandas as pd\n",
    "\n",
    "from sklearn.metrics.pairwise import cosine_similarity\n",
    "from sklearn import datasets\n",
    "\n",
    "\n",
    "import matplotlib.pyplot as plt\n",
    "%matplotlib inline"
   ]
  },
  {
   "cell_type": "code",
   "execution_count": 2,
   "metadata": {},
   "outputs": [],
   "source": [
    "digits = datasets.load_digits()\n",
    "some_digit = digits.images[7]"
   ]
  },
  {
   "cell_type": "code",
   "execution_count": 3,
   "metadata": {},
   "outputs": [
    {
     "data": {
      "text/plain": [
       "array([[ 0.,  0.,  7.,  8., 13., 16., 15.,  1.],\n",
       "       [ 0.,  0.,  7.,  7.,  4., 11., 12.,  0.],\n",
       "       [ 0.,  0.,  0.,  0.,  8., 13.,  1.,  0.],\n",
       "       [ 0.,  4.,  8.,  8., 15., 15.,  6.,  0.],\n",
       "       [ 0.,  2., 11., 15., 15.,  4.,  0.,  0.],\n",
       "       [ 0.,  0.,  0., 16.,  5.,  0.,  0.,  0.],\n",
       "       [ 0.,  0.,  9., 15.,  1.,  0.,  0.,  0.],\n",
       "       [ 0.,  0., 13.,  5.,  0.,  0.,  0.,  0.]])"
      ]
     },
     "execution_count": 3,
     "metadata": {},
     "output_type": "execute_result"
    }
   ],
   "source": [
    "some_digit"
   ]
  },
  {
   "cell_type": "code",
   "execution_count": 4,
   "metadata": {},
   "outputs": [
    {
     "data": {
      "image/png": "[encoded data removed]",
      "text/plain": [
       "<Figure size 432x288 with 1 Axes>"
      ]
     },
     "metadata": {},
     "output_type": "display_data"
    }
   ],
   "source": [
    "fig = plt.figure()\n",
    "ax = fig.add_subplot(111)\n",
    "ax.imshow(some_digit, cmap = plt.cm.gray_r)\n",
    "ax.spines[\"top\"].set_color(\"None\")\n",
    "ax.spines[\"left\"].set_color(\"None\")\n",
    "ax.spines[\"right\"].set_color(\"None\")\n",
    "ax.spines[\"bottom\"].set_color(\"None\")\n",
    "ax.set_xticks([])\n",
    "ax.set_yticks([])\n",
    "ax.set_title(\"MNIST: número 7\");"
   ]
  },
  {
   "cell_type": "code",
   "execution_count": 5,
   "metadata": {},
   "outputs": [
    {
     "data": {
      "text/html": [
       "<div>\n",
       "<style scoped>\n",
       "    .dataframe tbody tr th:only-of-type {\n",
       "        vertical-align: middle;\n",
       "    }\n",
       "\n",
       "    .dataframe tbody tr th {\n",
       "        vertical-align: top;\n",
       "    }\n",
       "\n",
       "    .dataframe thead th {\n",
       "        text-align: right;\n",
       "    }\n",
       "</style>\n",
       "<table border=\"1\" class=\"dataframe\">\n",
       "  <thead>\n",
       "    <tr style=\"text-align: right;\">\n",
       "      <th></th>\n",
       "      <th>Valor1</th>\n",
       "      <th>Valor2</th>\n",
       "    </tr>\n",
       "  </thead>\n",
       "  <tbody>\n",
       "    <tr>\n",
       "      <th>Vector1</th>\n",
       "      <td>1</td>\n",
       "      <td>2</td>\n",
       "    </tr>\n",
       "    <tr>\n",
       "      <th>Vector2</th>\n",
       "      <td>1</td>\n",
       "      <td>2</td>\n",
       "    </tr>\n",
       "    <tr>\n",
       "      <th>Vector3</th>\n",
       "      <td>100</td>\n",
       "      <td>200</td>\n",
       "    </tr>\n",
       "    <tr>\n",
       "      <th>Vector4</th>\n",
       "      <td>-2</td>\n",
       "      <td>-5</td>\n",
       "    </tr>\n",
       "    <tr>\n",
       "      <th>Vector5</th>\n",
       "      <td>3</td>\n",
       "      <td>-3</td>\n",
       "    </tr>\n",
       "  </tbody>\n",
       "</table>\n",
       "</div>"
      ],
      "text/plain": [
       "         Valor1  Valor2\n",
       "Vector1       1       2\n",
       "Vector2       1       2\n",
       "Vector3     100     200\n",
       "Vector4      -2      -5\n",
       "Vector5       3      -3"
      ]
     },
     "execution_count": 5,
     "metadata": {},
     "output_type": "execute_result"
    }
   ],
   "source": [
    "index_ = [\"Vector1\", \"Vector2\", \"Vector3\", \"Vector4\", \"Vector5\"]\n",
    "columns_ = [\"Valor1\", \"Valor2\"]\n",
    "vectors = [\n",
    "    [1, 2], \n",
    "    [1, 2], \n",
    "    [100, 200], \n",
    "    [-2, -5], \n",
    "    [3, -3]\n",
    "]\n",
    "df = pd.DataFrame(vectors, index = index_, columns = columns_)\n",
    "df"
   ]
  },
  {
   "cell_type": "code",
   "execution_count": 6,
   "metadata": {},
   "outputs": [
    {
     "data": {
      "text/plain": [
       "-0.9965457582448796"
      ]
     },
     "execution_count": 6,
     "metadata": {},
     "output_type": "execute_result"
    }
   ],
   "source": [
    "v1 = [1, 2]\n",
    "v4 = [-2, -5]\n",
    "\n",
    "((1 * -2) + (2 * -5))\\\n",
    "/(np.sqrt(np.power(1, 2) + np.power(2, 2)) * np.sqrt(np.power(-2, 2) + np.power(-5, 2)))"
   ]
  },
  {
   "cell_type": "code",
   "execution_count": 7,
   "metadata": {},
   "outputs": [
    {
     "data": {
      "text/plain": [
       "-0.9965457582448796"
      ]
     },
     "execution_count": 7,
     "metadata": {},
     "output_type": "execute_result"
    }
   ],
   "source": [
    "((v1[0] * v4[0]) + (v1[1] * v4[1]))\\\n",
    "/(np.sqrt((v1[0]**2) + (v1[1]**2)) * np.sqrt((v4[0]**2) + (v4[1]**2)))"
   ]
  },
  {
   "cell_type": "code",
   "execution_count": 8,
   "metadata": {},
   "outputs": [
    {
     "data": {
      "text/html": [
       "<div>\n",
       "<style scoped>\n",
       "    .dataframe tbody tr th:only-of-type {\n",
       "        vertical-align: middle;\n",
       "    }\n",
       "\n",
       "    .dataframe tbody tr th {\n",
       "        vertical-align: top;\n",
       "    }\n",
       "\n",
       "    .dataframe thead th {\n",
       "        text-align: right;\n",
       "    }\n",
       "</style>\n",
       "<table border=\"1\" class=\"dataframe\">\n",
       "  <thead>\n",
       "    <tr style=\"text-align: right;\">\n",
       "      <th></th>\n",
       "      <th>Vector1</th>\n",
       "      <th>Vector2</th>\n",
       "      <th>Vector3</th>\n",
       "      <th>Vector4</th>\n",
       "      <th>Vector5</th>\n",
       "    </tr>\n",
       "  </thead>\n",
       "  <tbody>\n",
       "    <tr>\n",
       "      <th>Vector1</th>\n",
       "      <td>1.000000</td>\n",
       "      <td>1.000000</td>\n",
       "      <td>1.000000</td>\n",
       "      <td>-0.996546</td>\n",
       "      <td>-0.316228</td>\n",
       "    </tr>\n",
       "    <tr>\n",
       "      <th>Vector2</th>\n",
       "      <td>1.000000</td>\n",
       "      <td>1.000000</td>\n",
       "      <td>1.000000</td>\n",
       "      <td>-0.996546</td>\n",
       "      <td>-0.316228</td>\n",
       "    </tr>\n",
       "    <tr>\n",
       "      <th>Vector3</th>\n",
       "      <td>1.000000</td>\n",
       "      <td>1.000000</td>\n",
       "      <td>1.000000</td>\n",
       "      <td>-0.996546</td>\n",
       "      <td>-0.316228</td>\n",
       "    </tr>\n",
       "    <tr>\n",
       "      <th>Vector4</th>\n",
       "      <td>-0.996546</td>\n",
       "      <td>-0.996546</td>\n",
       "      <td>-0.996546</td>\n",
       "      <td>1.000000</td>\n",
       "      <td>0.393919</td>\n",
       "    </tr>\n",
       "    <tr>\n",
       "      <th>Vector5</th>\n",
       "      <td>-0.316228</td>\n",
       "      <td>-0.316228</td>\n",
       "      <td>-0.316228</td>\n",
       "      <td>0.393919</td>\n",
       "      <td>1.000000</td>\n",
       "    </tr>\n",
       "  </tbody>\n",
       "</table>\n",
       "</div>"
      ],
      "text/plain": [
       "          Vector1   Vector2   Vector3   Vector4   Vector5\n",
       "Vector1  1.000000  1.000000  1.000000 -0.996546 -0.316228\n",
       "Vector2  1.000000  1.000000  1.000000 -0.996546 -0.316228\n",
       "Vector3  1.000000  1.000000  1.000000 -0.996546 -0.316228\n",
       "Vector4 -0.996546 -0.996546 -0.996546  1.000000  0.393919\n",
       "Vector5 -0.316228 -0.316228 -0.316228  0.393919  1.000000"
      ]
     },
     "execution_count": 8,
     "metadata": {},
     "output_type": "execute_result"
    }
   ],
   "source": [
    "pd.DataFrame(cosine_similarity(df), index = index_, columns = index_)"
   ]
  },
  {
   "cell_type": "code",
   "execution_count": 9,
   "metadata": {},
   "outputs": [
    {
     "data": {
      "image/png": "[encoded data removed]",
      "text/plain": [
       "<Figure size 432x288 with 1 Axes>"
      ]
     },
     "metadata": {
      "needs_background": "light"
     },
     "output_type": "display_data"
    }
   ],
   "source": [
    "fig = plt.figure()\n",
    "ax = fig.add_subplot()\n",
    "\n",
    "lims = (-10, 10)\n",
    "alpha = 0.5\n",
    "ax.set_xlim(lims)\n",
    "ax.set_ylim(lims)\n",
    "\n",
    "ax.vlines(0, -10, 10, linestyles = \"--\", alpha = alpha)\n",
    "ax.hlines(0, -10, 10, linestyles = \"--\", alpha = alpha)\n",
    "\n",
    "ax.plot([0, 1], [0, 2], alpha = alpha, color = \"red\", lw = 5)\n",
    "ax.plot([0, 2], [0, 4], alpha = alpha, color = \"blue\", lw = 2)\n",
    "ax.plot([0, 3], [0, 11], alpha = alpha, color = \"orange\", lw = 5)\n",
    "ax.plot([-2, 0], [5, 0], alpha = alpha, color = \"purple\", lw = 5)\n",
    "ax.plot([0, -2], [0, -5], alpha = alpha, color = \"black\", lw = 5)\n",
    "\n",
    "ax.text(1.5, 2, s = \"[0,1], [0, 2]\", fontsize = 8, color = \"red\")\n",
    "ax.text(2.5, 4, s = \"[0,2], [0, 4]\", fontsize = 8, color = \"blue\")\n",
    "ax.text(2.5, 7, s = \"[0,3], [0, 11]\", fontsize = 8, color = \"orange\")\n",
    "ax.text(-5, 5, s = \"[-2,0], [5, 0]\", fontsize = 8, color = \"purple\")\n",
    "ax.text(-5, -5, s = \"[0,-2], [0, -5]\", fontsize = 8, color = \"black\")\n",
    "\n",
    "x_ticks = [x for x in range(-10, 11)]\n",
    "y_ticks = [y for y in range(-10, 11)]\n",
    "\n",
    "ax.set_xticks(x_ticks)\n",
    "ax.set_yticks(y_ticks)\n",
    "\n",
    "fig.suptitle(\"Different vectors\");"
   ]
  },
  {
   "cell_type": "code",
   "execution_count": null,
   "metadata": {},
   "outputs": [],
   "source": []
  }
 ],
 "metadata": {
  "kernelspec": {
   "display_name": "Python 3",
   "language": "python",
   "name": "python3"
  },
  "language_info": {
   "codemirror_mode": {
    "name": "ipython",
    "version": 3
   },
   "file_extension": ".py",
   "mimetype": "text/x-python",
   "name": "python",
   "nbconvert_exporter": "python",
   "pygments_lexer": "ipython3",
   "version": "3.8.3"
  }
 },
 "nbformat": 4,
 "nbformat_minor": 4
}
